{
 "cells": [
  {
   "cell_type": "markdown",
   "metadata": {},
   "source": [
    "# Welcome to the Downtown Team Project\n",
    "\n",
    "## Description\n",
    "\n",
    "This is Markdown code. You can see some shortcuts here: https://www.markdownguide.org/cheat-sheet/\n",
    "**The text looks different when executed.**\n",
    "\n",
    "### This is a subsection\n",
    "\n",
    "We can improve readability this way.\n",
    "\n",
    "### How to add data\n",
    "\n",
    "https://tljh.jupyter.org/en/latest/howto/content/add-data.html\n",
    "\n",
    "## Project Goals\n",
    "\n",
    "1. Data\n",
    "2. Pre-processing\n",
    "3. Model Formulation\n",
    "4. Analysis\n",
    "\n",
    "\n",
    "\n"
   ]
  },
  {
   "cell_type": "code",
   "execution_count": 3,
   "metadata": {
    "scrolled": true
   },
   "outputs": [
    {
     "data": {
      "text/html": [
       "<ol class=list-inline>\n",
       "\t<li>108516</li>\n",
       "\t<li>39</li>\n",
       "</ol>\n"
      ],
      "text/latex": [
       "\\begin{enumerate*}\n",
       "\\item 108516\n",
       "\\item 39\n",
       "\\end{enumerate*}\n"
      ],
      "text/markdown": [
       "1. 108516\n",
       "2. 39\n",
       "\n",
       "\n"
      ],
      "text/plain": [
       "[1] 108516     39"
      ]
     },
     "metadata": {},
     "output_type": "display_data"
    },
    {
     "data": {
      "text/html": [
       "<ol class=list-inline>\n",
       "\t<li>5914</li>\n",
       "\t<li>39</li>\n",
       "</ol>\n"
      ],
      "text/latex": [
       "\\begin{enumerate*}\n",
       "\\item 5914\n",
       "\\item 39\n",
       "\\end{enumerate*}\n"
      ],
      "text/markdown": [
       "1. 5914\n",
       "2. 39\n",
       "\n",
       "\n"
      ],
      "text/plain": [
       "[1] 5914   39"
      ]
     },
     "metadata": {},
     "output_type": "display_data"
    }
   ],
   "source": [
    "#Importing the dataset\n",
    "main_dataset = read.csv('Computer_Assisted_Mass_Appraisal_-_Residential.csv')\n",
    "#Finding 2020 data points\n",
    "main_dataset$SALEDATE <- ifelse(substr(main_dataset$SALEDATE, start = 1, stop = 4) == \"2020\", main_dataset$SALEDATE, NA)\n",
    "#Dimension of the original dataset (108464, 39)\n",
    "dim(main_dataset)\n",
    "#Removing data points other than 2020\n",
    "data2020 <- main_dataset[!is.na(main_dataset$SALEDATE),]\n",
    "#Dimension of the data associating with the year 2020 (5511, 39)\n",
    "dim(data2020)"
   ]
  },
  {
   "cell_type": "markdown",
   "metadata": {},
   "source": [
    "## Data Pre-Processing\n",
    "\n",
    "### Selecting Predictors\n",
    "\n",
    "We selected some predictors. We did not select unqualified purchases because the did not represent fair market value assessments of the homes. etc\n",
    "\n"
   ]
  },
  {
   "cell_type": "code",
   "execution_count": 4,
   "metadata": {},
   "outputs": [],
   "source": [
    "#Removing columns of Object ID, GIS_LAST_MOD_DTTM, and QUALIFIED since they are not helping with the prediction\n",
    "data2020$OBJECTID <- NULL\n",
    "data2020$GIS_LAST_MOD_DTTM <- NULL\n",
    "#data2020$QUALIFIED <- NULL\n",
    "\n",
    "# STORRIES = STYLE. Which one to keep?\n",
    "data2020$STYLE <- NULL\n",
    "\n",
    "# SALE_NUM is helpful or not?\n",
    "data2020$SALE_NUM <- NULL\n",
    "\n",
    "#Removing columns HEAT_D, GRADE_D, CNDTN_D, STYLE_D, STRUCT_D, EXTWALL_D, ROOF_D, and INTWALL_D\n",
    "#because we have numerical codes for them in columns HEAT, GRADE, CNDTN, STYLE, STRUCT, EXTWALL, ROOF, and INTWALL\n",
    "data2020$HEAT_D <- NULL\n",
    "data2020$GRADE_D <- NULL\n",
    "data2020$CNDTN_D <- NULL\n",
    "data2020$STYLE_D <- NULL\n",
    "data2020$STRUCT_D <- NULL\n",
    "data2020$EXTWALL_D <- NULL\n",
    "data2020$ROOF_D <- NULL\n",
    "data2020$INTWALL_D <- NULL\n",
    "\n",
    "#Removing colmun SALEDATE since all of the data points belong to year 2020\n",
    "data2020$SALEDATE <- NULL"
   ]
  },
  {
   "cell_type": "code",
   "execution_count": null,
   "metadata": {},
   "outputs": [],
   "source": []
  }
 ],
 "metadata": {
  "kernelspec": {
   "display_name": "R",
   "language": "R",
   "name": "ir"
  },
  "language_info": {
   "codemirror_mode": "r",
   "file_extension": ".r",
   "mimetype": "text/x-r-source",
   "name": "R",
   "pygments_lexer": "r",
   "version": "3.6.1"
  }
 },
 "nbformat": 4,
 "nbformat_minor": 4
}
